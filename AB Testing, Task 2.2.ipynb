{
 "cells": [
  {
   "cell_type": "code",
   "execution_count": 1,
   "metadata": {},
   "outputs": [],
   "source": [
    "import numpy as np\n",
    "import matplotlib.pyplot as plt\n",
    "import pandas as pd\n",
    "import scipy.stats as st\n",
    "import statsmodels.api as sm"
   ]
  },
  {
   "cell_type": "code",
   "execution_count": 2,
   "metadata": {},
   "outputs": [],
   "source": [
    "df = pd.read_excel('Junior Data Analyst Task.xlsx', sheet_name='RAW_Task2')"
   ]
  },
  {
   "cell_type": "code",
   "execution_count": 3,
   "metadata": {},
   "outputs": [
    {
     "data": {
      "text/html": [
       "<div>\n",
       "<style scoped>\n",
       "    .dataframe tbody tr th:only-of-type {\n",
       "        vertical-align: middle;\n",
       "    }\n",
       "\n",
       "    .dataframe tbody tr th {\n",
       "        vertical-align: top;\n",
       "    }\n",
       "\n",
       "    .dataframe thead th {\n",
       "        text-align: right;\n",
       "    }\n",
       "</style>\n",
       "<table border=\"1\" class=\"dataframe\">\n",
       "  <thead>\n",
       "    <tr style=\"text-align: right;\">\n",
       "      <th></th>\n",
       "      <th>userID</th>\n",
       "      <th>regions</th>\n",
       "      <th>email</th>\n",
       "      <th>album</th>\n",
       "      <th>firstMessage</th>\n",
       "      <th>age</th>\n",
       "      <th>param1</th>\n",
       "      <th>param2</th>\n",
       "      <th>param3</th>\n",
       "      <th>param4</th>\n",
       "      <th>os</th>\n",
       "      <th>social</th>\n",
       "      <th>time_to_first</th>\n",
       "      <th>regDateTime</th>\n",
       "      <th>Conversion</th>\n",
       "      <th>Revenue</th>\n",
       "      <th>group</th>\n",
       "    </tr>\n",
       "  </thead>\n",
       "  <tbody>\n",
       "    <tr>\n",
       "      <th>0</th>\n",
       "      <td>164818468</td>\n",
       "      <td>0</td>\n",
       "      <td>rambler.ru</td>\n",
       "      <td>1</td>\n",
       "      <td>1</td>\n",
       "      <td>30</td>\n",
       "      <td>0.0</td>\n",
       "      <td>0.0</td>\n",
       "      <td>1.0</td>\n",
       "      <td>0.0</td>\n",
       "      <td>android</td>\n",
       "      <td>odnoklassniki</td>\n",
       "      <td>1</td>\n",
       "      <td>2020-01-01 02:18:03</td>\n",
       "      <td>0</td>\n",
       "      <td>100</td>\n",
       "      <td>B</td>\n",
       "    </tr>\n",
       "    <tr>\n",
       "      <th>1</th>\n",
       "      <td>165684464</td>\n",
       "      <td>1</td>\n",
       "      <td>yandex.ru</td>\n",
       "      <td>1</td>\n",
       "      <td>1</td>\n",
       "      <td>36</td>\n",
       "      <td>0.0</td>\n",
       "      <td>1.0</td>\n",
       "      <td>0.0</td>\n",
       "      <td>1.0</td>\n",
       "      <td>android</td>\n",
       "      <td>NaN</td>\n",
       "      <td>1</td>\n",
       "      <td>2020-01-01 04:56:24</td>\n",
       "      <td>0</td>\n",
       "      <td>200</td>\n",
       "      <td>A</td>\n",
       "    </tr>\n",
       "    <tr>\n",
       "      <th>2</th>\n",
       "      <td>167346466</td>\n",
       "      <td>0</td>\n",
       "      <td>mail.ru</td>\n",
       "      <td>1</td>\n",
       "      <td>1</td>\n",
       "      <td>42</td>\n",
       "      <td>0.0</td>\n",
       "      <td>1.0</td>\n",
       "      <td>1.0</td>\n",
       "      <td>0.0</td>\n",
       "      <td>android</td>\n",
       "      <td>NaN</td>\n",
       "      <td>2</td>\n",
       "      <td>2020-01-01 09:43:43</td>\n",
       "      <td>0</td>\n",
       "      <td>200</td>\n",
       "      <td>A</td>\n",
       "    </tr>\n",
       "    <tr>\n",
       "      <th>3</th>\n",
       "      <td>167590460</td>\n",
       "      <td>0</td>\n",
       "      <td>gmail.com</td>\n",
       "      <td>1</td>\n",
       "      <td>1</td>\n",
       "      <td>52</td>\n",
       "      <td>1.0</td>\n",
       "      <td>1.0</td>\n",
       "      <td>1.0</td>\n",
       "      <td>1.0</td>\n",
       "      <td>ios</td>\n",
       "      <td>NaN</td>\n",
       "      <td>6</td>\n",
       "      <td>2020-01-01 10:09:58</td>\n",
       "      <td>1</td>\n",
       "      <td>500</td>\n",
       "      <td>A</td>\n",
       "    </tr>\n",
       "    <tr>\n",
       "      <th>4</th>\n",
       "      <td>168218468</td>\n",
       "      <td>0</td>\n",
       "      <td>gmail.com</td>\n",
       "      <td>1</td>\n",
       "      <td>1</td>\n",
       "      <td>49</td>\n",
       "      <td>0.0</td>\n",
       "      <td>1.0</td>\n",
       "      <td>1.0</td>\n",
       "      <td>1.0</td>\n",
       "      <td>windows</td>\n",
       "      <td>facebook</td>\n",
       "      <td>62</td>\n",
       "      <td>2020-01-01 11:12:16</td>\n",
       "      <td>0</td>\n",
       "      <td>200</td>\n",
       "      <td>B</td>\n",
       "    </tr>\n",
       "  </tbody>\n",
       "</table>\n",
       "</div>"
      ],
      "text/plain": [
       "      userID  regions       email  album  firstMessage  age  param1  param2  \\\n",
       "0  164818468        0  rambler.ru      1             1   30     0.0     0.0   \n",
       "1  165684464        1   yandex.ru      1             1   36     0.0     1.0   \n",
       "2  167346466        0     mail.ru      1             1   42     0.0     1.0   \n",
       "3  167590460        0   gmail.com      1             1   52     1.0     1.0   \n",
       "4  168218468        0   gmail.com      1             1   49     0.0     1.0   \n",
       "\n",
       "   param3  param4       os         social  time_to_first          regDateTime  \\\n",
       "0     1.0     0.0  android  odnoklassniki              1  2020-01-01 02:18:03   \n",
       "1     0.0     1.0  android            NaN              1  2020-01-01 04:56:24   \n",
       "2     1.0     0.0  android            NaN              2  2020-01-01 09:43:43   \n",
       "3     1.0     1.0      ios            NaN              6  2020-01-01 10:09:58   \n",
       "4     1.0     1.0  windows       facebook             62  2020-01-01 11:12:16   \n",
       "\n",
       "   Conversion  Revenue group  \n",
       "0           0      100     B  \n",
       "1           0      200     A  \n",
       "2           0      200     A  \n",
       "3           1      500     A  \n",
       "4           0      200     B  "
      ]
     },
     "execution_count": 3,
     "metadata": {},
     "output_type": "execute_result"
    }
   ],
   "source": [
    "df['group'] = df['social'].isna().apply(lambda x: 'A' if x else 'B')\n",
    "df.head()"
   ]
  },
  {
   "cell_type": "markdown",
   "metadata": {},
   "source": [
    "## Приносят ли соцсети больше денег?"
   ]
  },
  {
   "cell_type": "code",
   "execution_count": 4,
   "metadata": {},
   "outputs": [
    {
     "data": {
      "text/plain": [
       "group\n",
       "A    1645900\n",
       "B    1443800\n",
       "Name: Revenue, dtype: int64"
      ]
     },
     "execution_count": 4,
     "metadata": {},
     "output_type": "execute_result"
    }
   ],
   "source": [
    "df.groupby('group').Revenue.sum()"
   ]
  },
  {
   "cell_type": "code",
   "execution_count": 5,
   "metadata": {},
   "outputs": [
    {
     "data": {
      "image/png": "[encoded data removed]",
      "text/plain": [
       "<Figure size 432x288 with 1 Axes>"
      ]
     },
     "metadata": {
      "needs_background": "light"
     },
     "output_type": "display_data"
    }
   ],
   "source": [
    "fig, ax = plt.subplots(figsize=(6,4))\n",
    "\n",
    "x = [0, 1]\n",
    "y = [df[df.group=='A'].Revenue.sum(), df[df.group=='B'].Revenue.sum()]\n",
    "\n",
    "ax.bar(x, y, align='center', color=['r','b'])\n",
    "ax.set_alpha(0.8)\n",
    "ax.set_title(\"Приносят ли соцсети больше денег?\", fontsize=12)\n",
    "ax.set_ylabel(\"Общая сумма покупок (Revenue)\", fontsize=12)\n",
    "\n",
    "for xx, yy in zip(x, y):\n",
    "    ax.text(xx, yy*0.5, yy,ha='center', va='bottom', fontdict={'size':14,'weight':'bold','color':'yellow'})\n",
    "    \n",
    "#Рассматрия каждую группу отдельно, видим, что соцсети не приносят больше денег"
   ]
  },
  {
   "cell_type": "markdown",
   "metadata": {},
   "source": [
    "## Приносят ли соцсети больше вторых конверсий?"
   ]
  },
  {
   "cell_type": "code",
   "execution_count": 6,
   "metadata": {},
   "outputs": [
    {
     "data": {
      "text/plain": [
       "group\n",
       "A    1909\n",
       "B    1662\n",
       "Name: Conversion, dtype: int64"
      ]
     },
     "execution_count": 6,
     "metadata": {},
     "output_type": "execute_result"
    }
   ],
   "source": [
    "df.groupby('group').Conversion.sum()"
   ]
  },
  {
   "cell_type": "code",
   "execution_count": 7,
   "metadata": {},
   "outputs": [
    {
     "data": {
      "image/png": "[encoded data removed]",
      "text/plain": [
       "<Figure size 432x288 with 1 Axes>"
      ]
     },
     "metadata": {
      "needs_background": "light"
     },
     "output_type": "display_data"
    }
   ],
   "source": [
    "fig, ax = plt.subplots(figsize=(6,4))\n",
    "\n",
    "x = [0, 1]\n",
    "y = [df[df.group=='A'].Conversion.sum(), df[df.group=='B'].Conversion.sum()]\n",
    "\n",
    "ax.bar(x, y, align='center', color=['r','b'])\n",
    "ax.set_alpha(0.8)\n",
    "ax.set_title(\"Приносят ли соцсети больше вторых конверсий?\", fontsize=12)\n",
    "ax.set_ylabel(\"Наличие вторых конверсий\", fontsize=12)\n",
    "\n",
    "for xx, yy in zip(x, y):\n",
    "    ax.text(xx, yy*0.5, yy,ha='center', va='bottom', fontdict={'size':14,'weight':'bold','color':'yellow'})\n",
    "    \n",
    "#Рассматрия каждую группу отдельно, видим, что соцсети не приносят больше вторых конверсий"
   ]
  },
  {
   "cell_type": "markdown",
   "metadata": {},
   "source": [
    "# AB тестирование: увеличился ли Conversion Rate и ARPU?"
   ]
  },
  {
   "cell_type": "code",
   "execution_count": 8,
   "metadata": {},
   "outputs": [],
   "source": [
    "dfA = df[df.group=='A']\n",
    "dfB = df[df.group=='B']"
   ]
  },
  {
   "cell_type": "markdown",
   "metadata": {},
   "source": [
    "## Conversion Rate"
   ]
  },
  {
   "cell_type": "markdown",
   "metadata": {},
   "source": [
    "Пускай $CR_A$, $CR_B$ — Conversion Rate каждой из групп. \n",
    "\n",
    "Выдвигаются следующие гипотезы с критическим уровнем $\\alpha = 0.05$ (уровень значимости 95%):\n",
    "\n",
    "$H_0$: $CR_B = CR_A$ (или $CR_B <= CR_A$)\n",
    "\n",
    "$H_1$: $CR_B > CR_A$"
   ]
  },
  {
   "cell_type": "code",
   "execution_count": 9,
   "metadata": {},
   "outputs": [
    {
     "name": "stdout",
     "output_type": "stream",
     "text": [
      "Conversion Rate And Sample Size For Each Group:\n"
     ]
    },
    {
     "data": {
      "text/plain": [
       "(0.4423076923076923, 0.43829113924050633, 4316, 3792)"
      ]
     },
     "execution_count": 9,
     "metadata": {},
     "output_type": "execute_result"
    }
   ],
   "source": [
    "CR_A = dfA.Conversion.mean()\n",
    "CR_B = dfB.Conversion.mean()\n",
    "n_A = dfA.Conversion.size\n",
    "n_B = dfB.Conversion.size\n",
    "print('Conversion Rate And Sample Size For Each Group:')\n",
    "CR_A, CR_B, n_A, n_B"
   ]
  },
  {
   "cell_type": "code",
   "execution_count": 10,
   "metadata": {},
   "outputs": [
    {
     "name": "stdout",
     "output_type": "stream",
     "text": [
      "z_score: 0.056487566752332546, p_value: 0.4774767000025714\n"
     ]
    }
   ],
   "source": [
    "#размеры выборок больше чем 30, поэтому можно использовать z-test вместо t-test (st.ttest_ind)\n",
    "\n",
    "alpha = 0.05\n",
    "z_score, p_value = sm.stats.proportions_ztest([CR_A, CR_B], [n_A, n_B])\n",
    "print('z_score: {0}, p_value: {1}'.format(abs(z_score), p_value/2))"
   ]
  },
  {
   "cell_type": "markdown",
   "metadata": {},
   "source": [
    "### z_score < 1.65 для уровня значимости 95% (а так же p_value > 0.05), поэтому мы не можем отклонить нулевую гипотезу о том, что Conversion Rate не изменился (меньше либо равно)."
   ]
  },
  {
   "cell_type": "markdown",
   "metadata": {},
   "source": [
    "## ARPU"
   ]
  },
  {
   "cell_type": "markdown",
   "metadata": {},
   "source": [
    "Пускай $ARPU_A$, $ARPU_B$ — Average Revenue Per User каждой из групп. \n",
    "\n",
    "Выдвигаются следующие гипотезы с критическим уровнем $\\alpha = 0.05$ (уровень значимости 95%):\n",
    "\n",
    "$H_0$: $ARPU_B = ARPU_A$ (или $ARPU_B <= ARPU_A$)\n",
    "\n",
    "$H_1$: $ARPU_B > ARPU_A$"
   ]
  },
  {
   "cell_type": "code",
   "execution_count": 11,
   "metadata": {},
   "outputs": [
    {
     "name": "stdout",
     "output_type": "stream",
     "text": [
      "ARPU And Sample Size For Each Group:\n"
     ]
    },
    {
     "data": {
      "text/plain": [
       "(381.34847080630215, 380.7489451476793, 4316, 3792)"
      ]
     },
     "execution_count": 11,
     "metadata": {},
     "output_type": "execute_result"
    }
   ],
   "source": [
    "ARPU_A = dfA.Revenue.mean()\n",
    "ARPU_B = dfB.Revenue.mean()\n",
    "n_A = dfA.Revenue.size\n",
    "n_B = dfB.Revenue.size\n",
    "print('ARPU And Sample Size For Each Group:')\n",
    "ARPU_A, ARPU_B, n_A, n_B"
   ]
  },
  {
   "cell_type": "code",
   "execution_count": 12,
   "metadata": {},
   "outputs": [
    {
     "name": "stdout",
     "output_type": "stream",
     "text": [
      "z_score: 1.8554405937372414, p_value: 0.03176666754826487\n"
     ]
    }
   ],
   "source": [
    "#размеры выборок больше чем 30, поэтому можно использовать z-test вместо t-test (st.ttest_ind)\n",
    "\n",
    "alpha = 0.05\n",
    "z_score, p_value = sm.stats.proportions_ztest([ARPU_A, ARPU_B], [n_A, n_B])\n",
    "print('z_score: {0}, p_value: {1}'.format(abs(z_score), p_value/2))"
   ]
  },
  {
   "cell_type": "markdown",
   "metadata": {},
   "source": [
    "### z_score > 1.65 для уровня значимости 95% (а так же p_value = 0.03 < 0.05), поэтому мы можем отклонить нулевую гипотезу и принять альтернативную гипотезу о том, что ARPU увеличился."
   ]
  },
  {
   "cell_type": "code",
   "execution_count": null,
   "metadata": {},
   "outputs": [],
   "source": []
  }
 ],
 "metadata": {
  "kernelspec": {
   "display_name": "Python 3",
   "language": "python",
   "name": "python3"
  },
  "language_info": {
   "codemirror_mode": {
    "name": "ipython",
    "version": 3
   },
   "file_extension": ".py",
   "mimetype": "text/x-python",
   "name": "python",
   "nbconvert_exporter": "python",
   "pygments_lexer": "ipython3",
   "version": "3.8.5"
  }
 },
 "nbformat": 4,
 "nbformat_minor": 2
}
